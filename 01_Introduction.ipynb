{
 "cells": [
  {
   "cell_type": "markdown",
   "metadata": {},
   "source": [
    "![title](figs/title.png)\n",
    "\n",
    "<h1><center>Module 01: Introduction to Geophysical Computing</center></h1>\n",
    "\n",
    "\n",
    "For the modern professional geophysicists, the use of computers and algorithms is ubiquitous in all aspects of the daily routine.  Whether using a \"canned\" commercial geophysical software application to or developing new code to address a particular task, employing/implementing some sort of computational algorithm is almost always at the heart of any geophysical task.\n",
    "\n",
    "## The challenge of canned software\n",
    "\n",
    "One of the key challenges geophysicsts face when using commercial geophysical software is that it is often difficult to determine what is going on \"under the hood\".  In many instances it may seem that geophysical results are found in the following way:\n",
    "\n",
    "$$ \n",
    "\\boxed{\\begin{array}{c}\\mathrm{Field}\\\\\\mathrm{Geophysical}\\\\\\mathrm{Data}\\end{array}}\n",
    "\\Longrightarrow \n",
    "\\boxed{\\begin{array}{c}\\mathrm{Magic\\,Black}\\\\\\mathrm{Box\\,of\\, Geophysical}\\\\\\mathrm{Data\\,Processing}\\end{array}}\n",
    "\\Longrightarrow \n",
    "\\boxed{\\begin{array}{c}\\mathrm{Top-notch}\\\\\\mathrm{Geophysical}\\\\\\mathrm{Result}\\end{array}}\n",
    "$$\n",
    "\n",
    "Often there are numerous parameters that go into the blackbox, various combinations of which can greatly affect the output results! It can be extremely frustrating for users - especially when the documentation and usage examples cannot be found, and there is no open-source code to help figure it out.\n",
    "\n",
    "## Python, Scientific Libraries and Beyond ...\n",
    "\n",
    "One of the major goals of this course is to strip away some of the **magic black box** nature of how students are commonly introduced to geophysical computing, and to provide a better conceptual idea of what is going on when software is applied to tackle geophysical problems.  That said, it is not our goal to \"reinvent the wheel\" on absolutely every algorithm because this would take far too long and one would never finish finding solutions to the problem at hand.  \n",
    "\n",
    "The approach we are taking in this course tries to find a middle way.  In particular, the notes will focus on the **Python** language and leverage its open-source, diverse and well-validated computational toolkits including **Numpy** and **Scipy** as well as the strong plotting library **Matplotlib**.  \n",
    "\n",
    "However, to fully appreciate the theory behind some of these tools, it is important to code up some algorithms by oneself to help deepen the understanding of just what the algorithm is doing. Moreover, there will be scenarios where one has to develop a full computer program for a specialized task for which no community-based solution exists.  \n",
    "\n",
    "In these cases, Python may not be the optimal language in which to develop and thus there will be the need to include algorithms directly embedded into the code. In particular, when dealing with large-scale 3D geophysical computing problems, it is highly desirable to develop **parallel computing** solutions that allow you to leverage modern computational hardware to solve these problem in a fraction of the time that **serial computing** solutions will take. Having a deeper understanding of the geophysical algoritms will be greatly helpful in these scenarios. \n",
    "\n",
    "In this course we will begin to explore these more advanced concepts using the student's choice of [\"low-level\" programming language](https://en.wikipedia.org/wiki/High-level_programming) C/C++/F90 and [OpenMP](https://www.openmp.org/). Overall, it is our hope that this will assist students in designing better geophysical computing solutions for read-world three-dimensional (3-D) problems that will facilitate achievement of the student's geophysical research and data processing goals."
   ]
  },
  {
   "cell_type": "markdown",
   "metadata": {},
   "source": [
    "## Course Aims\n",
    "\n",
    "The course is intended to provide senior-level undergraduate and first-year graduate students with material that aimed at improving the algorithmic, programming and computing skills, while simultaneously enhancing skills in handling geophysical data sets.  In some ways, these skills are those that are not really taught in any one particular geophysics course; however, they are often the \"glue\" that students need to help stick together disparate components learned in specific courses into a workable solution.\n",
    "\n",
    "If we were to broadly classify the material presented in this course, it could be broken down into the following three skill sets:\n",
    "\n",
    "* Computing Skills: \n",
    "    * **Working in a Linux Environment and Cluster Computing Architecture**\n",
    "    * **Introduction to Parallelism with OpenMP**\n",
    "    \n",
    "    \n",
    "* Numerical Solutions of Geophysical Partial Differential Equations (PDEs): \n",
    "    * **Elliptical PDEs (3D Laplace and Poisson Equations)**\n",
    "    * **Parabolic PDEs (3D Diffusion-Advection Flow)**\n",
    "    * **Hyperbolic PDEs (3D Acoustic wave equation)**\n",
    "    \n",
    "    \n",
    "* Applied Numerical Algorithms and Data Handling\n",
    "    * **Applied Linear Algebra for Geophysical Problems**\n",
    "    * **Differentiation and Discretization**\n",
    "    * **Regression**\n",
    "    * **Introduction to Machine Learning**\n",
    "    \n",
    "We briefly summarize each of these sections below."
   ]
  },
  {
   "cell_type": "markdown",
   "metadata": {},
   "source": [
    "## Module 02: Working in a Linux Cluster Environment\n",
    "\n",
    "We will begin the course trying to establish a common computing framework for working on Mines computer clusters. While many of the computational tools can be developed through **prototyping** on your laptop, as we will see in this course it is often much more preferable to run your final large-scale and parallelized solutions (more later on that) in a cluster environment on HPC nodes with 24+ cores!\n",
    "\n",
    "<img src=\"figs/mio.png\" width=\"250\">\n",
    "\n",
    "**Figure 1. The CSM Mio cluster on which you will be doing much of your work.**\n",
    "\n",
    "Working on the CSM Mio cluster requires developing new skills (for some!) about working in a Linux environment; writing and compiling your code in a lower-level language (e.g., C/C++/F90); submitting jobs through a job scheduler (e.g., SLURM); and debugging, validating and optimizing your code to obtain the best results in the least amount of time. \n",
    "\n",
    "To help facilitate this process, we are going to perform our tasks within the [Madagascar](www.ahay.org) framework. While not a perfect environment for doing everything you might want to do in a computational sense, it does offer an extensive [API](https://en.wikipedia.org/wiki/Application_programming_interface) that allows one to interact with (i.e., read in and write out) multi-dimensional array data stored in a regularly sampled format (RSF).  There are also lots of code examples that provide a good starting point for developing your own applications. "
   ]
  },
  {
   "cell_type": "markdown",
   "metadata": {},
   "source": [
    "## Module 03: Numerical Differentiation / Discretization\n",
    "\n",
    "The next module begins our exploration of numerical methods used to solve partial differential equations (PDEs) such as the multi-dimensional advection+convection equation:\n",
    "\n",
    "$${\\bf v}\\cdot \\nabla u - \\frac{\\partial u}{\\partial t} = \\kappa \\nabla^2 u \\tag{1}$$\n",
    "\n",
    "where ${\\bf v}$ is velocity, $u$ is a scalar field, and $\\kappa$ is the diffusivity field. Examples in nature include the movement of, say, a pollutant in a stream in the absence of any diffusive process.\n",
    "\n",
    "To solve these equations numerically in a computer, we need to solve PDEs on a discrete solution grid that necessarily requires the process of **discretizing the physical system** including the partial differential operators (e.g., $\\frac{\\partial^2 }{\\partial x^2}$) comprising the PDE.  This is commonly done using **finite-difference** approximations, which commonly lead to numerical **stencils** and very **efficient** solution algorithms.\n",
    "\n",
    "For those of you who have taken digital signal processing, you should be familiar with the concept of discretization. To remind you, the left panel below shows an image of the moon. The center panel shows this picture after applying a **convolutional Laplacian filter** for the purpose of emphasizing the discontinuous structure. The right panel shows the **2D finite-difference approximation** of the continuous Laplacian operators $\\nabla^2$.\n",
    "\n",
    "<table><tr>\n",
    "<td> <img src=\"figs/Moon_discretization.jpg\" alt=\"Drawing\" style=\"width: 500px;\"/> </td>\n",
    "<td> <img src=\"figs/Lapfilt.png\" alt=\"Drawing\" style=\"width: 200px;\"/> </td>\n",
    "</tr></table>\n",
    "\n",
    "**Figure 2. Moon image before (left) and after (right) applying a numerical filter representing the 2D Laplacian operator, which is a fundamental component of many of the PDEs studied in this course.**  \n",
    "\n",
    "However, we will go beyond this to explore how different discretizations affect the **stabilty** and **accuracy** of numerical solution of **time-dependent** PDEs.  In this module we will be taking a deeper look at the numerical approximations and discretization with the goal of developing the skills required to solve PDEs of interest like those in Modules 5, 7 and 8."
   ]
  },
  {
   "cell_type": "markdown",
   "metadata": {},
   "source": [
    "## Module 04 - Introduction to OpenMP\n",
    "\n",
    "Having solved advection equations in 2D in Python and 3D in your lab assignment, you will quickly recognize the need for speeding up the solvers you developed to obtain your numerical solutions! In this case there is a clear need to move from Python-based serial (or automatically parallelized) solutions to ones where you can leverage modern computer architecture (i.e., the multi-core processor chips) to solve your PDE in **parallel**.  \n",
    "\n",
    "<img src=\"figs/CPU_GPU.jpg\" width=\"400\">\n",
    "\n",
    "**Figure 3. Illustrating modern hardware components in today's clusters, including 12 cores on a CPU (left) and a GPU comprised of thousands of stripped-down cores (right).** \n",
    "\n",
    "One of the most straightforward ways to do this is through **OpenMP**, which is an extension to C/C++/F90 languages.  Combined with modern compilers like gcc/icc or gfortran/ifort, these API-like extensions can be used to break up task-parallel components of your code (e.g., loops) so that each core on your CPU can contribute towards generating the solution.   \n",
    "\n",
    "In addition to developing parallel solutions through OpenMP, we will also look at how we can benchmark how we are doing in relation to the idealized speedup (i.e., if you have 24 cores can you do your task 24x faster?!?). We will look at both how your computational solutions scale with the increasing dimensionality of the problem (an example of **strong scaling**) as well as with the increasing number of CPU cores (an example of **weak scaling**)."
   ]
  },
  {
   "cell_type": "markdown",
   "metadata": {},
   "source": [
    "## Module 05: Elliptical PDEs\n",
    "\n",
    "Having tackled issues pertaining to discretization of partial differential operators and thereby PDEs, we are now ready to move on to actually solving some PDEs of interest in geophysics: **elliptical PDEs**.  One of the most straightforward PDEs to solve is the 3D Poisson's equation for a potential surface $U(x,y,z)$:\n",
    "\n",
    "$$\\nabla^2 U = \\frac{\\partial^2 U}{\\partial x^2} + \\frac{\\partial^2 U}{\\partial y^2} + \\frac{\\partial^2 U}{\\partial z^2} = f(x,y,z) \\tag{2}$$\n",
    "\n",
    "which reduces to Laplace's equation in instances where $f(x,y,z)=0$ throughout the solution domain.  You may recall that one must specify the **boundary conditions** prior to calcuating solutions to these types of equations. \n",
    "\n",
    "The example below shows the potential surface solution related to the distribution of either four point masses (gravitational potential) or the response to four positive point charges (electrical potential).\n",
    "\n",
    "<img src=\"figs/solution_mixt.png\" width=\"600\">\n",
    "\n",
    "**Figure 3. Numerical solution of Poisson's equation solution for four point charges within a domain held at zero potential.**\n",
    "\n",
    "In this module we will explore 2D and 3D numerical approaches that will be couched in the framework of - and be used to motivate - applied linear algebra (Module 06)."
   ]
  },
  {
   "cell_type": "markdown",
   "metadata": {},
   "source": [
    "## Module 06 - Applied Linear Algebra for Geophysical Problems\n",
    "\n",
    "In your undergraduate prepatory career you have probably taken a semester-long course in Linear Algebra. It is equally likely that this course was pretty abstract and didn't really make a strong connection with geophysics.  However, applied linear algebra comes up all of the time in numerical geophysical computing - especially in the context of generating the solution to a system of linear equations. \n",
    "\n",
    "In many situations we will investigate this semester, the geophysical problem can be represeted by a straightforward matrix equation:\n",
    "\n",
    "$${\\bf Gm}= {\\bf d}$$\n",
    "\n",
    "where ${\\bf m}$ is some geophysical **model parameter** (e.g., acoustic wave speed, thermal conductivity, electric charge), ${\\bf d}$ is some sort of geophysical **data** (e.g., acoustic pressure, heat distibution, electric potential), and ${\\bf G}$ is a numerical representation of the **physics** and often **experimental geometry** that is used to forward model ${\\bf d}$ given ${\\bf m}$.  The following figure illustrates this concept using graphical depictions of ${\\bf G}$, ${\\bf m}$ and ${\\bf d}$.\n",
    "\n",
    "<img src=\"figs/Gm_d_Inversion.jpeg\" width=\"750\">\n",
    "\n",
    "**Figure 4.  Illustration of a modeling operator (left) acting on a model vector (center) to develop data (right).  You will see this paradigm constantly throughout this course!**\n",
    "\n",
    "A good portion of this course looks at how one can solve these types of forward modeling equations in an efficient and straightforward manner using different methods of **applied linear algebra**.  We will also examine scenarios where solutions cannot actually be generated due to various numerical challenges. "
   ]
  },
  {
   "cell_type": "markdown",
   "metadata": {},
   "source": [
    "## Module 07: Parabolic PDEs \n",
    "\n",
    "The next set of PDEs we will study fall into the family of **parabolic** equations.  In particular, we are looking to generate numerical solutions of 3D heat flow, 3D advection equations and 3D diffusion-advection equation, all of which can be written in the following form:\n",
    "\n",
    "$${\\frac {\\partial \\phi (x,y,z,t)}{\\partial t}}=\\nabla \\cdot {\\big [}D(x,y,z)\\ \\nabla \\phi (x,y,z,t){\\big ]} \\tag{3}$$\n",
    "\n",
    "where $\\phi (x,y,z,t)$ is, e.g., the distribution of heat through the 2D solution domain, and $D(x,y,z)$ is the heterogeneous thermal conductivity field.  Computing solutions requires setting both the **initial condition** (i.e., at time $t=0$s) and the **boundary conditions** at the edges of the computational domain.\n",
    "\n",
    "In Figure 5, the left panels show an example of the time evolution of the heat distribution $U(x,y,t)$ for a square computational domain where the four edges are held at $0^\\circ$C and all interior points initially start at $100^\\circ$C. The right panel shows a cross-section through the solution and is easier to see how the $U(x,y=0.5,t)$ evolves over the computed solution time.\n",
    "\n",
    "<img src=\"figs/2dheat.gif\" width=\"800\">\n",
    "\n",
    "**Figure 5. Illustrating of the numerical solution of the 2D heat equation.**\n",
    "\n",
    "In this module we will be developing numerical solutions to the 3D diffusion+advection equation, validating them against analytical solutions, and then using your validated code to solve some interesting geophysical problems for which **no analytical solutions exist**.\n"
   ]
  },
  {
   "cell_type": "markdown",
   "metadata": {},
   "source": [
    "## Module 08: Hyperbolic PDEs\n",
    "\n",
    "The final set of PDEs that we will study fall into the family of **hyperbolic** equations.  In particular, we are looking to generate numerical solutions of 3D acoustic wave equation:\n",
    "\n",
    "$$\\left[ \\frac{ \\partial^2 }{\\partial x^2}+\\frac{ \\partial^2 }{\\partial y^2}+\\frac{ \\partial^2 }{\\partial y^2} -\\frac{1}{c^2(x,y,z)} {\\frac {\\partial^2}{\\partial t^2}}\\right] U(x,y,z,t) = f(x,y,z,t) \\tag{4}$$\n",
    "\n",
    "where $U(x,y,z,t)$ is the displacement of the acoustic wave disturbance, and $c(x,y,z)$ is the heterogeneous acoustic wave speed, and $f(x,y,z,t)$ is the force source distribution (e.g., what is causing the acoustic wave disturbance).  Computing solutions requires setting the initial conditions and the boundary conditions at the edges of the computational domain.\n",
    "\n",
    "The example below shows a numerical solution to the 2D acoustic wave equation that is modeling the temporal and spatial evolution of a taut square drum head (i.e., clamped boundaries with zero displacement) and some initial amplitude and/or velocity distribution.\n",
    "\n",
    "<img src=\"figs/2dwave.gif\" width=\"400\">\n",
    "\n",
    "**Figure 6. Illustration of the numerical solution of the 2D acoustic wave equation for a taut membrane on a square frame.**\n",
    "\n",
    "In this module we will be developing numerical solutions to the 3D acoustic wave equatino, validating them against analytical solutions to a PDE system like in the example above, and then using our validated code to solve some interesting geophysical wave propagation problems for which there are no analytical solution."
   ]
  },
  {
   "cell_type": "markdown",
   "metadata": {},
   "source": [
    "## Module 09: Interpolation\n",
    "\n",
    "Geophysicists handle data that are acquired at regular and irregular (spatial and/or temporal intervals); however, most of the time the locations where data are acquired are insufficient in number or not in all of the desired locations required to make the corresponding geophysical or geological interpretation.   \n",
    "\n",
    "Let's look a the following example.  For simplicitly, let's say that we have 30+ elevation data points that were acquired over a 1 km$^2$ area.  An important question that will no doubt be asked is: *Based on this data, can we determine the elevation profile throughout the entire area?*\n",
    "\n",
    "<img src=\"figs/2D_Interpolation_intro.png\" width=\"500\">\n",
    "\n",
    "**Figure 7. Illustration of an underlying interpolation solution developed from the given points in red.**\n",
    "\n",
    "The good news is that yes we can create high-density maps using the acquired data points; however, the challenge is that there is no one unique map that we can create from the data that would be arguably correct.  To do this, we we will explore some of the fundamentals of **interpolation** and see a number of different ways in which plausible maps can be created in 1D and 2D.  Many of these algorithms even can be exported to higher dimensions for those cases where 3D, 4D and even 5D interpolation is required; however, these fall beyond the scope of this module.\n"
   ]
  },
  {
   "cell_type": "markdown",
   "metadata": {
    "collapsed": true
   },
   "source": [
    "## Module 10: Regression\n",
    "\n",
    "Measured data contain various kinds of noise, and that's why models (numerical and analytical) can never fit data perfectly. In order to find the model that \"best\" fits the data, regression algorithms are needed. \n",
    "\n",
    "<img src=\"figs/regression_intro.png\" width=\"300\">\n",
    "\n",
    "**Figure 8: Fitting the production rate of an oil producer using a physical model (exponential decay).**\n",
    "\n",
    "Most regression problems can be presented like this:\n",
    "\n",
    "   * Find $m$ such that $||G(m)-d|| + \\lambda \\Gamma(m)$ is minimized. \n",
    "\n",
    "Where $G$ is the model function that links the model parameter $m$ with the observations $d$. $G(m)$ is the model-predict data, while $d$ is the actually measured one. Symbol $||\\dots||$ represents some norm of the difference between the predicted data and real data. $\\Gamma(m)$ is some regularization term, representing our a priori knowledge of the model. \n",
    "\n",
    "Two catalogs of regression problems will be discussed in this section: linear and non-linear regression. For the linear regression problem, both model function $G$ and regularization function $\\Gamma$ can be presented as a system of linear functions, and the problem usually has an analytical solution. On the other hand, the non-linear regression problem has to be solved numerically and several algorithms will be introduced. \n"
   ]
  },
  {
   "cell_type": "markdown",
   "metadata": {},
   "source": [
    "## Module 11: Introduction to Machine Learning\n",
    "\n",
    "In this chapter, we will introduce some fundamentals of machine learning, as well as the associated python packages. \n",
    "\n",
    "Machine-learning models, or statistical-learning models, can be considered as highly adaptive empirical functions that project the input data X with output y. In mathematics, it can be presented as:\n",
    "\n",
    "   * Find $p$ such that $||G(X,p)-y||$ is minimized. \n",
    "\n",
    "where $p$ is the parameters to be \"trained\". You may find that this formula is quite similar to the regression problem from the last chapter: they are fundamentally the same, except machine-learning algorithms use statistical models instead of physical ones.\n",
    "\n",
    "We will learn several popular machine learning models and basic machine learning workflow: data processing, feature engineering, hyperparameter selection, and model validation.\n",
    "\n",
    "<img src=\"figs/machine_learning_intro.png\" width=\"300\">\n",
    "\n",
    "**Figure 9: Fitting the production rate of an oil producer using a machine-learning model (multiple-layer neural network).**"
   ]
  },
  {
   "cell_type": "code",
   "execution_count": null,
   "metadata": {},
   "outputs": [],
   "source": []
  }
 ],
 "metadata": {
  "kernelspec": {
   "display_name": "Python 3",
   "language": "python",
   "name": "python3"
  },
  "language_info": {
   "codemirror_mode": {
    "name": "ipython",
    "version": 3
   },
   "file_extension": ".py",
   "mimetype": "text/x-python",
   "name": "python",
   "nbconvert_exporter": "python",
   "pygments_lexer": "ipython3",
   "version": "3.7.4"
  },
  "toc": {
   "base_numbering": 1,
   "nav_menu": {},
   "number_sections": true,
   "sideBar": true,
   "skip_h1_title": false,
   "title_cell": "Table of Contents",
   "title_sidebar": "Contents",
   "toc_cell": false,
   "toc_position": {},
   "toc_section_display": true,
   "toc_window_display": false
  }
 },
 "nbformat": 4,
 "nbformat_minor": 2
}
